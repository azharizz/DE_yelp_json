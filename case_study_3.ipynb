{
 "cells": [
  {
   "cell_type": "markdown",
   "metadata": {},
   "source": [
    "# Case Study 3"
   ]
  },
  {
   "cell_type": "code",
   "execution_count": 6,
   "metadata": {},
   "outputs": [],
   "source": [
    "import duckdb\n",
    "import pandas as pd"
   ]
  },
  {
   "cell_type": "markdown",
   "metadata": {},
   "source": [
    "### Creating Table Source for review_specific_id"
   ]
  },
  {
   "cell_type": "code",
   "execution_count": 50,
   "metadata": {},
   "outputs": [],
   "source": [
    "duckdb.sql(\"CREATE TABLE review_specific_id AS SELECT * FROM read_json_auto('yelp_academic_dataset_review.json') WHERE business_id = '7ATYjTIgM3jUlt4UM3IypQ' AND date BETWEEN '2018-01-01' AND '2019-01-01';\")"
   ]
  },
  {
   "cell_type": "markdown",
   "metadata": {},
   "source": [
    "### Ingesting json into temp table, this is for easier get data from 5 GB of JOSN data as it's running quickly (5 seconds)"
   ]
  },
  {
   "cell_type": "code",
   "execution_count": 17,
   "metadata": {},
   "outputs": [],
   "source": [
    "duckdb.sql(\"CREATE TEMP TABLE review_taemp AS SELECT * FROM read_json_auto('yelp_academic_dataset_review.json') WHERE business_id = '7ATYjTIgM3jUlt4UM3IypQ' AND date BETWEEN '2018-01-01' AND '2019-01-01';\")"
   ]
  },
  {
   "cell_type": "markdown",
   "metadata": {},
   "source": [
    "--------------------------------------------"
   ]
  },
  {
   "cell_type": "markdown",
   "metadata": {},
   "source": [
    "### This is for incremental mode"
   ]
  },
  {
   "cell_type": "code",
   "execution_count": 54,
   "metadata": {},
   "outputs": [
    {
     "data": {
      "text/plain": [
       "┌───────────┬─────────┬─────────────┬────────┬────────┬───────┬───────┬─────────┬───────────┐\n",
       "│ review_id │ user_id │ business_id │ stars  │ useful │ funny │ cool  │  text   │   date    │\n",
       "│  varchar  │ varchar │   varchar   │ double │ int64  │ int64 │ int64 │ varchar │ timestamp │\n",
       "├───────────┴─────────┴─────────────┴────────┴────────┴───────┴───────┴─────────┴───────────┤\n",
       "│                                          0 rows                                           │\n",
       "└───────────────────────────────────────────────────────────────────────────────────────────┘"
      ]
     },
     "execution_count": 54,
     "metadata": {},
     "output_type": "execute_result"
    }
   ],
   "source": [
    "# FOR INCREMENTAL ONLY NOT USING BACKDATE\n",
    "duckdb.sql(\"SELECT * FROM review_temp WHERE review_id not in (SELECT review_id from review_specific_id);\")"
   ]
  },
  {
   "cell_type": "markdown",
   "metadata": {},
   "source": [
    "Due there is no data in new json, we use all data just for example of data ingestion to Spreadsheet"
   ]
  },
  {
   "cell_type": "code",
   "execution_count": 18,
   "metadata": {},
   "outputs": [],
   "source": [
    "df = duckdb.sql(\"SELECT * FROM review_temp\").fetchdf()"
   ]
  },
  {
   "cell_type": "code",
   "execution_count": 21,
   "metadata": {},
   "outputs": [
    {
     "name": "stdout",
     "output_type": "stream",
     "text": [
      "<class 'pandas.core.frame.DataFrame'>\n",
      "RangeIndex: 4 entries, 0 to 3\n",
      "Data columns (total 9 columns):\n",
      " #   Column       Non-Null Count  Dtype         \n",
      "---  ------       --------------  -----         \n",
      " 0   review_id    4 non-null      object        \n",
      " 1   user_id      4 non-null      object        \n",
      " 2   business_id  4 non-null      object        \n",
      " 3   stars        4 non-null      float64       \n",
      " 4   useful       4 non-null      int64         \n",
      " 5   funny        4 non-null      int64         \n",
      " 6   cool         4 non-null      int64         \n",
      " 7   text         4 non-null      object        \n",
      " 8   date         4 non-null      datetime64[us]\n",
      "dtypes: datetime64[us](1), float64(1), int64(3), object(4)\n",
      "memory usage: 416.0+ bytes\n"
     ]
    }
   ],
   "source": [
    "df.info()"
   ]
  },
  {
   "cell_type": "code",
   "execution_count": 23,
   "metadata": {},
   "outputs": [],
   "source": [
    "df['date_format'] = df['date'].dt.date"
   ]
  },
  {
   "cell_type": "code",
   "execution_count": 24,
   "metadata": {},
   "outputs": [
    {
     "data": {
      "text/html": [
       "<div>\n",
       "<style scoped>\n",
       "    .dataframe tbody tr th:only-of-type {\n",
       "        vertical-align: middle;\n",
       "    }\n",
       "\n",
       "    .dataframe tbody tr th {\n",
       "        vertical-align: top;\n",
       "    }\n",
       "\n",
       "    .dataframe thead th {\n",
       "        text-align: right;\n",
       "    }\n",
       "</style>\n",
       "<table border=\"1\" class=\"dataframe\">\n",
       "  <thead>\n",
       "    <tr style=\"text-align: right;\">\n",
       "      <th></th>\n",
       "      <th>review_id</th>\n",
       "      <th>user_id</th>\n",
       "      <th>business_id</th>\n",
       "      <th>stars</th>\n",
       "      <th>useful</th>\n",
       "      <th>funny</th>\n",
       "      <th>cool</th>\n",
       "      <th>text</th>\n",
       "      <th>date</th>\n",
       "      <th>date_format</th>\n",
       "    </tr>\n",
       "  </thead>\n",
       "  <tbody>\n",
       "    <tr>\n",
       "      <th>0</th>\n",
       "      <td>OmKVEVJmVPImlQDK_wCn2g</td>\n",
       "      <td>AhLubOI-czV3DeKs9s4yUQ</td>\n",
       "      <td>7ATYjTIgM3jUlt4UM3IypQ</td>\n",
       "      <td>5.0</td>\n",
       "      <td>0</td>\n",
       "      <td>0</td>\n",
       "      <td>0</td>\n",
       "      <td>Seriously kicked my butt.  Great bikes and ins...</td>\n",
       "      <td>2018-02-13 21:55:20</td>\n",
       "      <td>2018-02-13</td>\n",
       "    </tr>\n",
       "    <tr>\n",
       "      <th>1</th>\n",
       "      <td>gRCKV0tmSf046wio5ocPDw</td>\n",
       "      <td>thlXLsfsScDqsD8Jehc1_g</td>\n",
       "      <td>7ATYjTIgM3jUlt4UM3IypQ</td>\n",
       "      <td>5.0</td>\n",
       "      <td>0</td>\n",
       "      <td>0</td>\n",
       "      <td>0</td>\n",
       "      <td>New to Body Cycle and spinning. I could not ha...</td>\n",
       "      <td>2018-04-10 21:21:44</td>\n",
       "      <td>2018-04-10</td>\n",
       "    </tr>\n",
       "    <tr>\n",
       "      <th>2</th>\n",
       "      <td>kaqHqKN30CyOxt2jIniwBQ</td>\n",
       "      <td>wZWB41wmnv4pPsetuIN5Gw</td>\n",
       "      <td>7ATYjTIgM3jUlt4UM3IypQ</td>\n",
       "      <td>5.0</td>\n",
       "      <td>0</td>\n",
       "      <td>0</td>\n",
       "      <td>0</td>\n",
       "      <td>(one day later) Holy hell. My booty hurts. \\n\\...</td>\n",
       "      <td>2018-04-23 12:45:37</td>\n",
       "      <td>2018-04-23</td>\n",
       "    </tr>\n",
       "    <tr>\n",
       "      <th>3</th>\n",
       "      <td>XwivkWLE63_Ya8kBAbGA-w</td>\n",
       "      <td>KTxe33TKY86VJRm41iBm1A</td>\n",
       "      <td>7ATYjTIgM3jUlt4UM3IypQ</td>\n",
       "      <td>5.0</td>\n",
       "      <td>2</td>\n",
       "      <td>0</td>\n",
       "      <td>1</td>\n",
       "      <td>I've been to this studio many times through cl...</td>\n",
       "      <td>2018-02-21 13:56:52</td>\n",
       "      <td>2018-02-21</td>\n",
       "    </tr>\n",
       "  </tbody>\n",
       "</table>\n",
       "</div>"
      ],
      "text/plain": [
       "                review_id                 user_id             business_id  \\\n",
       "0  OmKVEVJmVPImlQDK_wCn2g  AhLubOI-czV3DeKs9s4yUQ  7ATYjTIgM3jUlt4UM3IypQ   \n",
       "1  gRCKV0tmSf046wio5ocPDw  thlXLsfsScDqsD8Jehc1_g  7ATYjTIgM3jUlt4UM3IypQ   \n",
       "2  kaqHqKN30CyOxt2jIniwBQ  wZWB41wmnv4pPsetuIN5Gw  7ATYjTIgM3jUlt4UM3IypQ   \n",
       "3  XwivkWLE63_Ya8kBAbGA-w  KTxe33TKY86VJRm41iBm1A  7ATYjTIgM3jUlt4UM3IypQ   \n",
       "\n",
       "   stars  useful  funny  cool  \\\n",
       "0    5.0       0      0     0   \n",
       "1    5.0       0      0     0   \n",
       "2    5.0       0      0     0   \n",
       "3    5.0       2      0     1   \n",
       "\n",
       "                                                text                date  \\\n",
       "0  Seriously kicked my butt.  Great bikes and ins... 2018-02-13 21:55:20   \n",
       "1  New to Body Cycle and spinning. I could not ha... 2018-04-10 21:21:44   \n",
       "2  (one day later) Holy hell. My booty hurts. \\n\\... 2018-04-23 12:45:37   \n",
       "3  I've been to this studio many times through cl... 2018-02-21 13:56:52   \n",
       "\n",
       "  date_format  \n",
       "0  2018-02-13  \n",
       "1  2018-04-10  \n",
       "2  2018-04-23  \n",
       "3  2018-02-21  "
      ]
     },
     "execution_count": 24,
     "metadata": {},
     "output_type": "execute_result"
    }
   ],
   "source": [
    "df"
   ]
  },
  {
   "cell_type": "code",
   "execution_count": 31,
   "metadata": {},
   "outputs": [],
   "source": [
    "grouped_df = df.groupby('date_format').agg(\n",
    "    count_row=('business_id', 'count'),\n",
    "    avg_stars=('stars', 'mean'),\n",
    "    avg_useful=('useful', 'mean'),\n",
    "    avg_funny=('funny', 'mean'),\n",
    "    avg_cool=('cool', 'mean')\n",
    ").reset_index()"
   ]
  },
  {
   "cell_type": "code",
   "execution_count": 45,
   "metadata": {},
   "outputs": [],
   "source": [
    "grouped_df['date_format'] = grouped_df['date_format'].astype(str)"
   ]
  },
  {
   "cell_type": "code",
   "execution_count": 46,
   "metadata": {},
   "outputs": [
    {
     "data": {
      "text/html": [
       "<div>\n",
       "<style scoped>\n",
       "    .dataframe tbody tr th:only-of-type {\n",
       "        vertical-align: middle;\n",
       "    }\n",
       "\n",
       "    .dataframe tbody tr th {\n",
       "        vertical-align: top;\n",
       "    }\n",
       "\n",
       "    .dataframe thead th {\n",
       "        text-align: right;\n",
       "    }\n",
       "</style>\n",
       "<table border=\"1\" class=\"dataframe\">\n",
       "  <thead>\n",
       "    <tr style=\"text-align: right;\">\n",
       "      <th></th>\n",
       "      <th>date_format</th>\n",
       "      <th>count_row</th>\n",
       "      <th>avg_stars</th>\n",
       "      <th>avg_useful</th>\n",
       "      <th>avg_funny</th>\n",
       "      <th>avg_cool</th>\n",
       "    </tr>\n",
       "  </thead>\n",
       "  <tbody>\n",
       "    <tr>\n",
       "      <th>0</th>\n",
       "      <td>2018-02-13</td>\n",
       "      <td>1</td>\n",
       "      <td>5.0</td>\n",
       "      <td>0.0</td>\n",
       "      <td>0.0</td>\n",
       "      <td>0.0</td>\n",
       "    </tr>\n",
       "    <tr>\n",
       "      <th>1</th>\n",
       "      <td>2018-02-21</td>\n",
       "      <td>1</td>\n",
       "      <td>5.0</td>\n",
       "      <td>2.0</td>\n",
       "      <td>0.0</td>\n",
       "      <td>1.0</td>\n",
       "    </tr>\n",
       "    <tr>\n",
       "      <th>2</th>\n",
       "      <td>2018-04-10</td>\n",
       "      <td>1</td>\n",
       "      <td>5.0</td>\n",
       "      <td>0.0</td>\n",
       "      <td>0.0</td>\n",
       "      <td>0.0</td>\n",
       "    </tr>\n",
       "    <tr>\n",
       "      <th>3</th>\n",
       "      <td>2018-04-23</td>\n",
       "      <td>1</td>\n",
       "      <td>5.0</td>\n",
       "      <td>0.0</td>\n",
       "      <td>0.0</td>\n",
       "      <td>0.0</td>\n",
       "    </tr>\n",
       "  </tbody>\n",
       "</table>\n",
       "</div>"
      ],
      "text/plain": [
       "  date_format  count_row  avg_stars  avg_useful  avg_funny  avg_cool\n",
       "0  2018-02-13          1        5.0         0.0        0.0       0.0\n",
       "1  2018-02-21          1        5.0         2.0        0.0       1.0\n",
       "2  2018-04-10          1        5.0         0.0        0.0       0.0\n",
       "3  2018-04-23          1        5.0         0.0        0.0       0.0"
      ]
     },
     "execution_count": 46,
     "metadata": {},
     "output_type": "execute_result"
    }
   ],
   "source": [
    "grouped_df"
   ]
  },
  {
   "cell_type": "code",
   "execution_count": 48,
   "metadata": {},
   "outputs": [],
   "source": [
    "import gspread\n",
    "from oauth2client.service_account import ServiceAccountCredentials\n",
    "\n",
    "\n",
    "scope = [\"https://spreadsheets.google.com/feeds\", \"https://www.googleapis.com/auth/drive\"]\n",
    "creds = ServiceAccountCredentials.from_json_keyfile_name('service-account.json', scope)\n",
    "client = gspread.authorize(creds)\n",
    "\n",
    "spreadsheet = client.open(\"Azhar Question Number 3 Dealls\")  # Replace with your spreadsheet name\n",
    "worksheet = spreadsheet.sheet1  "
   ]
  },
  {
   "cell_type": "code",
   "execution_count": 49,
   "metadata": {},
   "outputs": [
    {
     "name": "stdout",
     "output_type": "stream",
     "text": [
      "['2018-02-13', 1, 5.0, 0.0, 0.0, 0.0]\n",
      "['2018-02-21', 1, 5.0, 2.0, 0.0, 1.0]\n",
      "['2018-04-10', 1, 5.0, 0.0, 0.0, 0.0]\n",
      "['2018-04-23', 1, 5.0, 0.0, 0.0, 0.0]\n",
      "Data inserted successfully!\n"
     ]
    }
   ],
   "source": [
    "worksheet.insert_row(grouped_df.columns.tolist(), 1)\n",
    "\n",
    "for index, row in grouped_df.iterrows():\n",
    "    print(row.tolist())\n",
    "    worksheet.insert_row(row.tolist(), index + 2)\n",
    "\n",
    "print(\"Data inserted successfully!\")"
   ]
  },
  {
   "cell_type": "markdown",
   "metadata": {},
   "source": [
    "### Succefully inserted for initial load and incremental mode"
   ]
  },
  {
   "cell_type": "markdown",
   "metadata": {},
   "source": [
    "---------------------------------------------------------"
   ]
  },
  {
   "cell_type": "markdown",
   "metadata": {},
   "source": [
    "### Now this is for the backfill"
   ]
  },
  {
   "cell_type": "code",
   "execution_count": 74,
   "metadata": {},
   "outputs": [],
   "source": [
    "df_backfill = duckdb.sql(\"SELECT date::date date, COUNT(business_id) count_row, AVG(stars) stars, AVG(useful) useful, AVG(funny) funny, AVG(cool) cool  FROM review_temp WHERE date::date = '2018-04-10' GROUP BY date::date;\").fetchdf()"
   ]
  },
  {
   "cell_type": "code",
   "execution_count": 75,
   "metadata": {},
   "outputs": [
    {
     "data": {
      "text/html": [
       "<div>\n",
       "<style scoped>\n",
       "    .dataframe tbody tr th:only-of-type {\n",
       "        vertical-align: middle;\n",
       "    }\n",
       "\n",
       "    .dataframe tbody tr th {\n",
       "        vertical-align: top;\n",
       "    }\n",
       "\n",
       "    .dataframe thead th {\n",
       "        text-align: right;\n",
       "    }\n",
       "</style>\n",
       "<table border=\"1\" class=\"dataframe\">\n",
       "  <thead>\n",
       "    <tr style=\"text-align: right;\">\n",
       "      <th></th>\n",
       "      <th>date</th>\n",
       "      <th>count_row</th>\n",
       "      <th>stars</th>\n",
       "      <th>useful</th>\n",
       "      <th>funny</th>\n",
       "      <th>cool</th>\n",
       "    </tr>\n",
       "  </thead>\n",
       "  <tbody>\n",
       "    <tr>\n",
       "      <th>0</th>\n",
       "      <td>2018-04-10</td>\n",
       "      <td>1</td>\n",
       "      <td>5.0</td>\n",
       "      <td>0.0</td>\n",
       "      <td>0.0</td>\n",
       "      <td>0.0</td>\n",
       "    </tr>\n",
       "  </tbody>\n",
       "</table>\n",
       "</div>"
      ],
      "text/plain": [
       "        date  count_row  stars  useful  funny  cool\n",
       "0 2018-04-10          1    5.0     0.0    0.0   0.0"
      ]
     },
     "execution_count": 75,
     "metadata": {},
     "output_type": "execute_result"
    }
   ],
   "source": [
    "df_backfill"
   ]
  },
  {
   "cell_type": "code",
   "execution_count": 76,
   "metadata": {},
   "outputs": [],
   "source": [
    "data = worksheet.get_all_values()\n",
    "\n",
    "id_to_delete = '2018-04-10'\n",
    "\n",
    "row_index_to_delete = None\n",
    "for index, row in enumerate(data):\n",
    "    if row[0] == id_to_delete:  # Assuming the ID is in the first column\n",
    "        row_index_to_delete = index + 1  # gspread is 1-indexed\n",
    "        break"
   ]
  },
  {
   "cell_type": "code",
   "execution_count": 77,
   "metadata": {},
   "outputs": [
    {
     "data": {
      "text/plain": [
       "5"
      ]
     },
     "execution_count": 77,
     "metadata": {},
     "output_type": "execute_result"
    }
   ],
   "source": [
    "row_index_to_delete"
   ]
  },
  {
   "cell_type": "code",
   "execution_count": 78,
   "metadata": {},
   "outputs": [
    {
     "name": "stdout",
     "output_type": "stream",
     "text": [
      "Deleted row with ID: 2018-04-10\n"
     ]
    }
   ],
   "source": [
    "if row_index_to_delete:\n",
    "    worksheet.delete_rows(row_index_to_delete)\n",
    "    print(f\"Deleted row with ID: {id_to_delete}\")\n",
    "else:\n",
    "    print(f\"No row found with ID: {id_to_delete}\")"
   ]
  },
  {
   "cell_type": "code",
   "execution_count": 83,
   "metadata": {},
   "outputs": [],
   "source": [
    "df_backfill['date'] = df_backfill['date'].astype(str)"
   ]
  },
  {
   "cell_type": "code",
   "execution_count": 84,
   "metadata": {},
   "outputs": [],
   "source": [
    "# new_row = ['2018-04-10', 1, 5.0, 0.0, 0.0, 0.0]\n",
    "for i, row in df_backfill.iterrows():\n",
    "    new_row = row.tolist()\n",
    "    worksheet.append_row(new_row)"
   ]
  },
  {
   "cell_type": "markdown",
   "metadata": {},
   "source": [
    "### Success for backfill data"
   ]
  }
 ],
 "metadata": {
  "kernelspec": {
   "display_name": "Python 3",
   "language": "python",
   "name": "python3"
  },
  "language_info": {
   "codemirror_mode": {
    "name": "ipython",
    "version": 3
   },
   "file_extension": ".py",
   "mimetype": "text/x-python",
   "name": "python",
   "nbconvert_exporter": "python",
   "pygments_lexer": "ipython3",
   "version": "3.9.6"
  }
 },
 "nbformat": 4,
 "nbformat_minor": 2
}
